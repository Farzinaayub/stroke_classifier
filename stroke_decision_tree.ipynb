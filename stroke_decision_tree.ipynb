{
 "cells": [
  {
   "cell_type": "markdown",
   "metadata": {},
   "source": [
    "What do you mean by ensemble technique, explain the Random Forest algorithm."
   ]
  },
  {
   "cell_type": "markdown",
   "metadata": {},
   "source": [
    "An ensemble technique in machine learning is a methodology that combines the predictions of multiple individual models (often called base models or weak learners) to make more accurate and robust predictions than any single model could achieve on its own. The idea behind ensemble methods is that by combining diverse models, the strengths of one model can compensate for the weaknesses of another, leading to improved overall performance. Ensemble techniques are widely used and have been shown to be highly effective in various machine learning tasks.\n",
    "\n",
    "One popular ensemble technique is the Random Forest algorithm.\n",
    "\n",
    "Random Forest Algorithm:\n",
    "\n",
    "Random Forest is an ensemble learning method that is primarily used for classification and regression tasks. It builds multiple decision trees during training and combines their predictions to make more accurate and stable predictions. Here's how the Random Forest algorithm works:\n",
    "\n",
    "Bootstrapping (Random Sampling):\n",
    "\n",
    "Random Forest starts by creating multiple bootstrap samples from the original dataset. Bootstrap sampling involves randomly selecting data points with replacement from the training dataset. This results in multiple subsets of the data, each potentially containing duplicates and missing some original data points.\n",
    "Decision Tree Construction:\n",
    "\n",
    "For each bootstrap sample, a decision tree is constructed. However, there are a couple of key differences from a standard decision tree:\n",
    "Random Feature Selection: At each node of the tree, instead of considering all features for splitting, only a random subset of features is considered. This helps to decorrelate the trees and reduce overfitting.\n",
    "Tree Depth: Random Forest trees are often grown to a certain depth (not fully expanded) to prevent overfitting.\n",
    "Voting (Classification) or Averaging (Regression):\n",
    "\n",
    "Once all the decision trees are constructed, they are used to make predictions on new, unseen data points.\n",
    "For classification tasks, each tree's prediction is treated as a \"vote\" for a class, and the class with the most votes is considered the final prediction.\n",
    "For regression tasks, the predictions from all trees are averaged to produce the final prediction.\n",
    "Key Advantages of Random Forest:\n",
    "\n",
    "High Accuracy: Random Forest tends to produce highly accurate predictions due to the combination of multiple decision trees.\n",
    "Reduced Overfitting: The randomness in feature selection and tree construction helps reduce overfitting compared to individual decision trees.\n",
    "Robustness: Random Forest is less sensitive to outliers and noisy data compared to single decision trees.\n",
    "Variable Importance: It can provide a measure of feature importance, indicating which features are more influential in making predictions.\n",
    "Random Forest is a powerful and versatile algorithm used in a wide range of applications, including classification, regression, and feature selection. It's known for its robustness, ease of use, and ability to handle high-dimensional datasets effectively."
   ]
  },
  {
   "cell_type": "markdown",
   "metadata": {},
   "source": [
    "What does random refer to in ‘Random Forest’?"
   ]
  },
  {
   "cell_type": "markdown",
   "metadata": {},
   "source": [
    "(Random Sampling):\n",
    "\n",
    "Random Forest starts by creating multiple bootstrap samples from the original dataset. Bootstrap sampling involves randomly selecting data points with replacement from the training dataset. This results in multiple subsets of the data, each potentially containing duplicates and missing some original data points."
   ]
  },
  {
   "cell_type": "markdown",
   "metadata": {},
   "source": [
    "How decision trees in Random Forest are different from decision trees in the Decision Tree algorithm?"
   ]
  },
  {
   "cell_type": "markdown",
   "metadata": {},
   "source": [
    "Random Feature Selection: At each node of the tree, instead of considering all features for splitting, only a random subset of features is considered. This helps to decorrelate the trees and reduce overfitting.\n",
    "Tree Depth: Random Forest trees are often grown to a certain depth (not fully expanded) to prevent overfitting."
   ]
  },
  {
   "cell_type": "markdown",
   "metadata": {},
   "source": [
    "High Variance: Decision trees are capable of modeling complex relationships in the data. If not constrained, they can create deep and highly branched trees that fit the training data perfectly but generalize poorly.\n",
    "\n",
    "Recursive Partitioning: Decision trees use a recursive partitioning approach, where they repeatedly split the data based on features. Without stopping criteria or pruning, this can lead to trees that are too deep and capture noise.\n",
    "\n",
    "Sensitive to Outliers: Decision trees can be sensitive to outliers and anomalies in the data. They may create branches to accommodate unusual data points, leading to overfitting.\n",
    "\n",
    "Lack of Smoothness: Decision trees make predictions by assigning a single class or value to each leaf node. This lack of smoothness in predictions can lead to overfitting, especially when the data has noise."
   ]
  },
  {
   "cell_type": "markdown",
   "metadata": {},
   "source": [
    "Parameters are internal variables learned by a machine learning model during training, directly influencing its predictions (e.g., weights in a neural network). Hyperparameters are configuration settings chosen before training that control the learning process itself (e.g., learning rate or tree depth). While parameters are adjusted automatically through training, hyperparameters are set manually and require optimization to find the best values for model performance."
   ]
  },
  {
   "cell_type": "markdown",
   "metadata": {},
   "source": [
    "Max Depth\n",
    "Min Samples Split\n",
    "Min Samples Leaf\n",
    "Max Features"
   ]
  },
  {
   "cell_type": "markdown",
   "metadata": {},
   "source": [
    "Bagging builds multiple independent base models (e.g., decision trees) in parallel, each trained on a different random subset of the training data, and combines their predictions by averaging (for regression) or voting (for classification) to reduce variance and improve model stability. Boosting, on the other hand, builds base models sequentially, with each subsequent model trained to correct the errors of the previous ones, resulting in improved accuracy and a focus on difficult-to-classify examples."
   ]
  },
  {
   "cell_type": "code",
   "execution_count": 174,
   "metadata": {},
   "outputs": [],
   "source": [
    "import numpy as np\n",
    "import pandas as pd\n",
    "import seaborn as sns\n",
    "import matplotlib.pyplot as plt"
   ]
  },
  {
   "cell_type": "code",
   "execution_count": 175,
   "metadata": {},
   "outputs": [
    {
     "data": {
      "text/html": [
       "<div>\n",
       "<style scoped>\n",
       "    .dataframe tbody tr th:only-of-type {\n",
       "        vertical-align: middle;\n",
       "    }\n",
       "\n",
       "    .dataframe tbody tr th {\n",
       "        vertical-align: top;\n",
       "    }\n",
       "\n",
       "    .dataframe thead th {\n",
       "        text-align: right;\n",
       "    }\n",
       "</style>\n",
       "<table border=\"1\" class=\"dataframe\">\n",
       "  <thead>\n",
       "    <tr style=\"text-align: right;\">\n",
       "      <th></th>\n",
       "      <th>0</th>\n",
       "      <th>1</th>\n",
       "    </tr>\n",
       "  </thead>\n",
       "  <tbody>\n",
       "    <tr>\n",
       "      <th>id</th>\n",
       "      <td>9046</td>\n",
       "      <td>51676</td>\n",
       "    </tr>\n",
       "    <tr>\n",
       "      <th>gender</th>\n",
       "      <td>Male</td>\n",
       "      <td>Female</td>\n",
       "    </tr>\n",
       "    <tr>\n",
       "      <th>age</th>\n",
       "      <td>67.0</td>\n",
       "      <td>61.0</td>\n",
       "    </tr>\n",
       "    <tr>\n",
       "      <th>hypertension</th>\n",
       "      <td>0</td>\n",
       "      <td>0</td>\n",
       "    </tr>\n",
       "    <tr>\n",
       "      <th>heart_disease</th>\n",
       "      <td>1</td>\n",
       "      <td>0</td>\n",
       "    </tr>\n",
       "    <tr>\n",
       "      <th>ever_married</th>\n",
       "      <td>Yes</td>\n",
       "      <td>Yes</td>\n",
       "    </tr>\n",
       "    <tr>\n",
       "      <th>work_type</th>\n",
       "      <td>Private</td>\n",
       "      <td>Self-employed</td>\n",
       "    </tr>\n",
       "    <tr>\n",
       "      <th>Residence_type</th>\n",
       "      <td>Urban</td>\n",
       "      <td>Rural</td>\n",
       "    </tr>\n",
       "    <tr>\n",
       "      <th>avg_glucose_level</th>\n",
       "      <td>228.69</td>\n",
       "      <td>202.21</td>\n",
       "    </tr>\n",
       "    <tr>\n",
       "      <th>bmi</th>\n",
       "      <td>36.6</td>\n",
       "      <td>NaN</td>\n",
       "    </tr>\n",
       "    <tr>\n",
       "      <th>smoking_status</th>\n",
       "      <td>formerly smoked</td>\n",
       "      <td>never smoked</td>\n",
       "    </tr>\n",
       "    <tr>\n",
       "      <th>stroke</th>\n",
       "      <td>1</td>\n",
       "      <td>1</td>\n",
       "    </tr>\n",
       "  </tbody>\n",
       "</table>\n",
       "</div>"
      ],
      "text/plain": [
       "                                 0              1\n",
       "id                            9046          51676\n",
       "gender                        Male         Female\n",
       "age                           67.0           61.0\n",
       "hypertension                     0              0\n",
       "heart_disease                    1              0\n",
       "ever_married                   Yes            Yes\n",
       "work_type                  Private  Self-employed\n",
       "Residence_type               Urban          Rural\n",
       "avg_glucose_level           228.69         202.21\n",
       "bmi                           36.6            NaN\n",
       "smoking_status     formerly smoked   never smoked\n",
       "stroke                           1              1"
      ]
     },
     "execution_count": 175,
     "metadata": {},
     "output_type": "execute_result"
    }
   ],
   "source": [
    "df = pd.read_csv('Stroke Dataset - stroke.csv')\n",
    "df.head(2).T"
   ]
  },
  {
   "cell_type": "code",
   "execution_count": 176,
   "metadata": {},
   "outputs": [],
   "source": [
    "num_col=[]\n",
    "cat_col=[]\n",
    "for i in df.columns:\n",
    "    try:\n",
    "        df[i].astype(float)\n",
    "        num_col.append(i)\n",
    "    except:\n",
    "        cat_col.append(i)"
   ]
  },
  {
   "cell_type": "code",
   "execution_count": 177,
   "metadata": {},
   "outputs": [
    {
     "name": "stdout",
     "output_type": "stream",
     "text": [
      "gender: ['Male' 'Female' nan 'Other']\n",
      "ever_married: ['Yes' 'No']\n",
      "work_type: ['Private' 'Self-employed' 'Govt_job' 'children' 'Never_worked']\n",
      "Residence_type: ['Urban' 'Rural']\n",
      "smoking_status: ['formerly smoked' 'never smoked' 'smokes' 'Unknown']\n"
     ]
    }
   ],
   "source": [
    "for i in cat_col:\n",
    "    print(i,end=\": \")\n",
    "    print(df[i].unique())"
   ]
  },
  {
   "cell_type": "code",
   "execution_count": 178,
   "metadata": {},
   "outputs": [],
   "source": [
    "for i in cat_col:\n",
    "    mode_val = df[i].mode()[0]\n",
    "    df[i].fillna(mode_val,inplace=True)"
   ]
  },
  {
   "cell_type": "code",
   "execution_count": 179,
   "metadata": {},
   "outputs": [
    {
     "data": {
      "text/plain": [
       "['id',\n",
       " 'age',\n",
       " 'hypertension',\n",
       " 'heart_disease',\n",
       " 'avg_glucose_level',\n",
       " 'bmi',\n",
       " 'stroke']"
      ]
     },
     "execution_count": 179,
     "metadata": {},
     "output_type": "execute_result"
    }
   ],
   "source": [
    "num_col"
   ]
  },
  {
   "cell_type": "code",
   "execution_count": 180,
   "metadata": {},
   "outputs": [],
   "source": [
    "df.drop('id',axis=1,inplace=True)\n",
    "num_col.remove('id')\n",
    "num_col.remove('stroke')\n",
    "num_col.remove('hypertension')\n",
    "num_col.remove('heart_disease')"
   ]
  },
  {
   "cell_type": "code",
   "execution_count": 181,
   "metadata": {},
   "outputs": [
    {
     "name": "stdout",
     "output_type": "stream",
     "text": [
      "age: 104\n",
      "avg_glucose_level: 3872\n",
      "bmi: 418\n"
     ]
    }
   ],
   "source": [
    "for i in  num_col:\n",
    "    print(i,end=\": \")\n",
    "    print(df[i].nunique())"
   ]
  },
  {
   "cell_type": "code",
   "execution_count": 182,
   "metadata": {},
   "outputs": [
    {
     "name": "stderr",
     "output_type": "stream",
     "text": [
      "C:\\Users\\farzi\\AppData\\Local\\Temp\\ipykernel_4748\\4277794465.py:1: FutureWarning: The default value of numeric_only in DataFrame.corr is deprecated. In a future version, it will default to False. Select only valid columns or specify the value of numeric_only to silence this warning.\n",
      "  sns.heatmap(df.corr(),annot=True)\n"
     ]
    },
    {
     "data": {
      "text/plain": [
       "<Axes: >"
      ]
     },
     "execution_count": 182,
     "metadata": {},
     "output_type": "execute_result"
    },
    {
     "data": {
      "image/png": "[encoded data removed]",
      "text/plain": [
       "<Figure size 640x480 with 2 Axes>"
      ]
     },
     "metadata": {},
     "output_type": "display_data"
    }
   ],
   "source": [
    "sns.heatmap(df.corr(),annot=True)"
   ]
  },
  {
   "cell_type": "code",
   "execution_count": 183,
   "metadata": {},
   "outputs": [
    {
     "data": {
      "image/png": "[encoded data removed]",
      "text/plain": [
       "<Figure size 640x480 with 1 Axes>"
      ]
     },
     "metadata": {},
     "output_type": "display_data"
    },
    {
     "data": {
      "image/png": "[encoded data removed]",
      "text/plain": [
       "<Figure size 640x480 with 1 Axes>"
      ]
     },
     "metadata": {},
     "output_type": "display_data"
    },
    {
     "data": {
      "image/png": "[encoded data removed]",
      "text/plain": [
       "<Figure size 640x480 with 1 Axes>"
      ]
     },
     "metadata": {},
     "output_type": "display_data"
    }
   ],
   "source": [
    "for i in num_col:\n",
    "    sns.boxplot(df,x=df[i])\n",
    "    plt.title(label = f'boxplot of {i}')\n",
    "    plt.show()"
   ]
  },
  {
   "cell_type": "code",
   "execution_count": 184,
   "metadata": {},
   "outputs": [],
   "source": [
    "def outlier(col):\n",
    "    q1 = col.quantile(0.25)\n",
    "    q3 = col.quantile(0.75)\n",
    "    IQR = q3-q1\n",
    "    lower_bound = q1 - 1.5*IQR\n",
    "    upper_bound = q3 + 1*IQR\n",
    "    return col[(col>=lower_bound)&(col<=upper_bound)]"
   ]
  },
  {
   "cell_type": "code",
   "execution_count": 185,
   "metadata": {},
   "outputs": [],
   "source": [
    "for i in num_col:\n",
    "    df[i] = outlier(df[i])"
   ]
  },
  {
   "cell_type": "code",
   "execution_count": 186,
   "metadata": {},
   "outputs": [],
   "source": [
    "for i in num_col:\n",
    "    mean_val = df[i].mean()\n",
    "    df[i].fillna(mean_val,inplace=True)"
   ]
  },
  {
   "cell_type": "code",
   "execution_count": 187,
   "metadata": {},
   "outputs": [],
   "source": [
    "from sklearn.preprocessing import StandardScaler,LabelEncoder\n",
    "scaler = StandardScaler()\n",
    "df[num_col] = scaler.fit_transform(df[num_col])\n",
    "encoder = LabelEncoder()\n",
    "to_label_encode = ['ever_married','Residence_type']\n",
    "df[to_label_encode] = df[to_label_encode].apply(encoder.fit_transform)\n",
    "df = pd.get_dummies(df,columns=['gender','work_type','smoking_status'],drop_first=True)"
   ]
  },
  {
   "cell_type": "code",
   "execution_count": 188,
   "metadata": {},
   "outputs": [
    {
     "data": {
      "text/html": [
       "<div>\n",
       "<style scoped>\n",
       "    .dataframe tbody tr th:only-of-type {\n",
       "        vertical-align: middle;\n",
       "    }\n",
       "\n",
       "    .dataframe tbody tr th {\n",
       "        vertical-align: top;\n",
       "    }\n",
       "\n",
       "    .dataframe thead th {\n",
       "        text-align: right;\n",
       "    }\n",
       "</style>\n",
       "<table border=\"1\" class=\"dataframe\">\n",
       "  <thead>\n",
       "    <tr style=\"text-align: right;\">\n",
       "      <th></th>\n",
       "      <th>age</th>\n",
       "      <th>hypertension</th>\n",
       "      <th>heart_disease</th>\n",
       "      <th>ever_married</th>\n",
       "      <th>Residence_type</th>\n",
       "      <th>avg_glucose_level</th>\n",
       "      <th>bmi</th>\n",
       "      <th>stroke</th>\n",
       "      <th>gender_Male</th>\n",
       "      <th>gender_Other</th>\n",
       "      <th>work_type_Never_worked</th>\n",
       "      <th>work_type_Private</th>\n",
       "      <th>work_type_Self-employed</th>\n",
       "      <th>work_type_children</th>\n",
       "      <th>smoking_status_formerly smoked</th>\n",
       "      <th>smoking_status_never smoked</th>\n",
       "      <th>smoking_status_smokes</th>\n",
       "    </tr>\n",
       "  </thead>\n",
       "  <tbody>\n",
       "    <tr>\n",
       "      <th>0</th>\n",
       "      <td>1.06108</td>\n",
       "      <td>0</td>\n",
       "      <td>1</td>\n",
       "      <td>1</td>\n",
       "      <td>1</td>\n",
       "      <td>-7.448411e-16</td>\n",
       "      <td>1.432155</td>\n",
       "      <td>1</td>\n",
       "      <td>1</td>\n",
       "      <td>0</td>\n",
       "      <td>0</td>\n",
       "      <td>1</td>\n",
       "      <td>0</td>\n",
       "      <td>0</td>\n",
       "      <td>1</td>\n",
       "      <td>0</td>\n",
       "      <td>0</td>\n",
       "    </tr>\n",
       "    <tr>\n",
       "      <th>1</th>\n",
       "      <td>0.79554</td>\n",
       "      <td>0</td>\n",
       "      <td>0</td>\n",
       "      <td>1</td>\n",
       "      <td>0</td>\n",
       "      <td>-7.448411e-16</td>\n",
       "      <td>0.000000</td>\n",
       "      <td>1</td>\n",
       "      <td>0</td>\n",
       "      <td>0</td>\n",
       "      <td>0</td>\n",
       "      <td>0</td>\n",
       "      <td>1</td>\n",
       "      <td>0</td>\n",
       "      <td>0</td>\n",
       "      <td>1</td>\n",
       "      <td>0</td>\n",
       "    </tr>\n",
       "  </tbody>\n",
       "</table>\n",
       "</div>"
      ],
      "text/plain": [
       "       age  hypertension  heart_disease  ever_married  Residence_type  \\\n",
       "0  1.06108             0              1             1               1   \n",
       "1  0.79554             0              0             1               0   \n",
       "\n",
       "   avg_glucose_level       bmi  stroke  gender_Male  gender_Other  \\\n",
       "0      -7.448411e-16  1.432155       1            1             0   \n",
       "1      -7.448411e-16  0.000000       1            0             0   \n",
       "\n",
       "   work_type_Never_worked  work_type_Private  work_type_Self-employed  \\\n",
       "0                       0                  1                        0   \n",
       "1                       0                  0                        1   \n",
       "\n",
       "   work_type_children  smoking_status_formerly smoked  \\\n",
       "0                   0                               1   \n",
       "1                   0                               0   \n",
       "\n",
       "   smoking_status_never smoked  smoking_status_smokes  \n",
       "0                            0                      0  \n",
       "1                            1                      0  "
      ]
     },
     "execution_count": 188,
     "metadata": {},
     "output_type": "execute_result"
    }
   ],
   "source": [
    "df.head(2)"
   ]
  },
  {
   "cell_type": "code",
   "execution_count": 189,
   "metadata": {},
   "outputs": [],
   "source": [
    "x = df.drop('stroke',axis=1,inplace=False)\n",
    "y = df['stroke']\n",
    "from sklearn.model_selection import train_test_split\n",
    "x_train,x_test,y_train,y_test = train_test_split(x,y,test_size=0.3,random_state=42)"
   ]
  },
  {
   "cell_type": "code",
   "execution_count": 190,
   "metadata": {},
   "outputs": [],
   "source": [
    "from sklearn.tree import DecisionTreeClassifier\n",
    "model = DecisionTreeClassifier()\n",
    "model.fit(x_train,y_train)\n",
    "y_pred = model.predict(x_test)"
   ]
  },
  {
   "cell_type": "code",
   "execution_count": 191,
   "metadata": {},
   "outputs": [],
   "source": [
    "from sklearn.metrics import classification_report,confusion_matrix,precision_score,recall_score\n",
    "classification_report = classification_report(y_test,y_pred)\n",
    "TP,FP,FN,TN = confusion_matrix(y_test,y_pred).ravel()"
   ]
  },
  {
   "cell_type": "code",
   "execution_count": 192,
   "metadata": {},
   "outputs": [
    {
     "name": "stdout",
     "output_type": "stream",
     "text": [
      "              precision    recall  f1-score   support\n",
      "\n",
      "           0       0.95      0.95      0.95      1398\n",
      "           1       0.20      0.22      0.21        85\n",
      "\n",
      "    accuracy                           0.90      1483\n",
      "   macro avg       0.58      0.58      0.58      1483\n",
      "weighted avg       0.91      0.90      0.91      1483\n",
      "\n"
     ]
    }
   ],
   "source": [
    "print(classification_report)"
   ]
  },
  {
   "cell_type": "code",
   "execution_count": 193,
   "metadata": {},
   "outputs": [
    {
     "name": "stdout",
     "output_type": "stream",
     "text": [
      "1323 75 66 19\n"
     ]
    }
   ],
   "source": [
    "print(TP,FP,FN,TN)"
   ]
  },
  {
   "cell_type": "code",
   "execution_count": 194,
   "metadata": {},
   "outputs": [
    {
     "data": {
      "text/html": [
       "<div>\n",
       "<style scoped>\n",
       "    .dataframe tbody tr th:only-of-type {\n",
       "        vertical-align: middle;\n",
       "    }\n",
       "\n",
       "    .dataframe tbody tr th {\n",
       "        vertical-align: top;\n",
       "    }\n",
       "\n",
       "    .dataframe thead th {\n",
       "        text-align: right;\n",
       "    }\n",
       "</style>\n",
       "<table border=\"1\" class=\"dataframe\">\n",
       "  <thead>\n",
       "    <tr style=\"text-align: right;\">\n",
       "      <th></th>\n",
       "      <th>dtypes</th>\n",
       "      <th>null_cnt</th>\n",
       "      <th>count</th>\n",
       "      <th>nunique</th>\n",
       "      <th>count</th>\n",
       "      <th>mean</th>\n",
       "      <th>std</th>\n",
       "      <th>min</th>\n",
       "      <th>25%</th>\n",
       "      <th>50%</th>\n",
       "      <th>75%</th>\n",
       "      <th>max</th>\n",
       "    </tr>\n",
       "  </thead>\n",
       "  <tbody>\n",
       "    <tr>\n",
       "      <th>age</th>\n",
       "      <td>float64</td>\n",
       "      <td>0</td>\n",
       "      <td>4942</td>\n",
       "      <td>104</td>\n",
       "      <td>4942.0</td>\n",
       "      <td>-3.450632e-17</td>\n",
       "      <td>1.000101</td>\n",
       "      <td>-1.900572</td>\n",
       "      <td>-0.797697</td>\n",
       "      <td>8.743463e-02</td>\n",
       "      <td>0.795540</td>\n",
       "      <td>1.724929</td>\n",
       "    </tr>\n",
       "    <tr>\n",
       "      <th>hypertension</th>\n",
       "      <td>int64</td>\n",
       "      <td>0</td>\n",
       "      <td>4942</td>\n",
       "      <td>2</td>\n",
       "      <td>4942.0</td>\n",
       "      <td>9.206799e-02</td>\n",
       "      <td>0.289151</td>\n",
       "      <td>0.000000</td>\n",
       "      <td>0.000000</td>\n",
       "      <td>0.000000e+00</td>\n",
       "      <td>0.000000</td>\n",
       "      <td>1.000000</td>\n",
       "    </tr>\n",
       "    <tr>\n",
       "      <th>heart_disease</th>\n",
       "      <td>int64</td>\n",
       "      <td>0</td>\n",
       "      <td>4942</td>\n",
       "      <td>2</td>\n",
       "      <td>4942.0</td>\n",
       "      <td>5.018211e-02</td>\n",
       "      <td>0.218343</td>\n",
       "      <td>0.000000</td>\n",
       "      <td>0.000000</td>\n",
       "      <td>0.000000e+00</td>\n",
       "      <td>0.000000</td>\n",
       "      <td>1.000000</td>\n",
       "    </tr>\n",
       "    <tr>\n",
       "      <th>ever_married</th>\n",
       "      <td>int32</td>\n",
       "      <td>0</td>\n",
       "      <td>4942</td>\n",
       "      <td>2</td>\n",
       "      <td>4942.0</td>\n",
       "      <td>6.539862e-01</td>\n",
       "      <td>0.475746</td>\n",
       "      <td>0.000000</td>\n",
       "      <td>0.000000</td>\n",
       "      <td>1.000000e+00</td>\n",
       "      <td>1.000000</td>\n",
       "      <td>1.000000</td>\n",
       "    </tr>\n",
       "    <tr>\n",
       "      <th>Residence_type</th>\n",
       "      <td>int32</td>\n",
       "      <td>0</td>\n",
       "      <td>4942</td>\n",
       "      <td>2</td>\n",
       "      <td>4942.0</td>\n",
       "      <td>5.082962e-01</td>\n",
       "      <td>0.499982</td>\n",
       "      <td>0.000000</td>\n",
       "      <td>0.000000</td>\n",
       "      <td>1.000000e+00</td>\n",
       "      <td>1.000000</td>\n",
       "      <td>1.000000</td>\n",
       "    </tr>\n",
       "    <tr>\n",
       "      <th>avg_glucose_level</th>\n",
       "      <td>float64</td>\n",
       "      <td>0</td>\n",
       "      <td>4942</td>\n",
       "      <td>3218</td>\n",
       "      <td>4942.0</td>\n",
       "      <td>-5.837320e-16</td>\n",
       "      <td>1.000101</td>\n",
       "      <td>-1.823810</td>\n",
       "      <td>-0.674906</td>\n",
       "      <td>-7.448411e-16</td>\n",
       "      <td>0.517371</td>\n",
       "      <td>3.154427</td>\n",
       "    </tr>\n",
       "    <tr>\n",
       "      <th>bmi</th>\n",
       "      <td>float64</td>\n",
       "      <td>0</td>\n",
       "      <td>4942</td>\n",
       "      <td>302</td>\n",
       "      <td>4942.0</td>\n",
       "      <td>-2.472953e-16</td>\n",
       "      <td>1.000101</td>\n",
       "      <td>-2.857152</td>\n",
       "      <td>-0.688035</td>\n",
       "      <td>0.000000e+00</td>\n",
       "      <td>0.649316</td>\n",
       "      <td>2.427013</td>\n",
       "    </tr>\n",
       "    <tr>\n",
       "      <th>stroke</th>\n",
       "      <td>int64</td>\n",
       "      <td>0</td>\n",
       "      <td>4942</td>\n",
       "      <td>2</td>\n",
       "      <td>4942.0</td>\n",
       "      <td>4.896803e-02</td>\n",
       "      <td>0.215823</td>\n",
       "      <td>0.000000</td>\n",
       "      <td>0.000000</td>\n",
       "      <td>0.000000e+00</td>\n",
       "      <td>0.000000</td>\n",
       "      <td>1.000000</td>\n",
       "    </tr>\n",
       "    <tr>\n",
       "      <th>gender_Male</th>\n",
       "      <td>uint8</td>\n",
       "      <td>0</td>\n",
       "      <td>4942</td>\n",
       "      <td>2</td>\n",
       "      <td>4942.0</td>\n",
       "      <td>4.097531e-01</td>\n",
       "      <td>0.491838</td>\n",
       "      <td>0.000000</td>\n",
       "      <td>0.000000</td>\n",
       "      <td>0.000000e+00</td>\n",
       "      <td>1.000000</td>\n",
       "      <td>1.000000</td>\n",
       "    </tr>\n",
       "    <tr>\n",
       "      <th>gender_Other</th>\n",
       "      <td>uint8</td>\n",
       "      <td>0</td>\n",
       "      <td>4942</td>\n",
       "      <td>2</td>\n",
       "      <td>4942.0</td>\n",
       "      <td>2.023472e-04</td>\n",
       "      <td>0.014225</td>\n",
       "      <td>0.000000</td>\n",
       "      <td>0.000000</td>\n",
       "      <td>0.000000e+00</td>\n",
       "      <td>0.000000</td>\n",
       "      <td>1.000000</td>\n",
       "    </tr>\n",
       "    <tr>\n",
       "      <th>work_type_Never_worked</th>\n",
       "      <td>uint8</td>\n",
       "      <td>0</td>\n",
       "      <td>4942</td>\n",
       "      <td>2</td>\n",
       "      <td>4942.0</td>\n",
       "      <td>4.451639e-03</td>\n",
       "      <td>0.066579</td>\n",
       "      <td>0.000000</td>\n",
       "      <td>0.000000</td>\n",
       "      <td>0.000000e+00</td>\n",
       "      <td>0.000000</td>\n",
       "      <td>1.000000</td>\n",
       "    </tr>\n",
       "    <tr>\n",
       "      <th>work_type_Private</th>\n",
       "      <td>uint8</td>\n",
       "      <td>0</td>\n",
       "      <td>4942</td>\n",
       "      <td>2</td>\n",
       "      <td>4942.0</td>\n",
       "      <td>5.724403e-01</td>\n",
       "      <td>0.494775</td>\n",
       "      <td>0.000000</td>\n",
       "      <td>0.000000</td>\n",
       "      <td>1.000000e+00</td>\n",
       "      <td>1.000000</td>\n",
       "      <td>1.000000</td>\n",
       "    </tr>\n",
       "    <tr>\n",
       "      <th>work_type_Self-employed</th>\n",
       "      <td>uint8</td>\n",
       "      <td>0</td>\n",
       "      <td>4942</td>\n",
       "      <td>2</td>\n",
       "      <td>4942.0</td>\n",
       "      <td>1.586402e-01</td>\n",
       "      <td>0.365377</td>\n",
       "      <td>0.000000</td>\n",
       "      <td>0.000000</td>\n",
       "      <td>0.000000e+00</td>\n",
       "      <td>0.000000</td>\n",
       "      <td>1.000000</td>\n",
       "    </tr>\n",
       "    <tr>\n",
       "      <th>work_type_children</th>\n",
       "      <td>uint8</td>\n",
       "      <td>0</td>\n",
       "      <td>4942</td>\n",
       "      <td>2</td>\n",
       "      <td>4942.0</td>\n",
       "      <td>1.359773e-01</td>\n",
       "      <td>0.342799</td>\n",
       "      <td>0.000000</td>\n",
       "      <td>0.000000</td>\n",
       "      <td>0.000000e+00</td>\n",
       "      <td>0.000000</td>\n",
       "      <td>1.000000</td>\n",
       "    </tr>\n",
       "    <tr>\n",
       "      <th>smoking_status_formerly smoked</th>\n",
       "      <td>uint8</td>\n",
       "      <td>0</td>\n",
       "      <td>4942</td>\n",
       "      <td>2</td>\n",
       "      <td>4942.0</td>\n",
       "      <td>1.717928e-01</td>\n",
       "      <td>0.377238</td>\n",
       "      <td>0.000000</td>\n",
       "      <td>0.000000</td>\n",
       "      <td>0.000000e+00</td>\n",
       "      <td>0.000000</td>\n",
       "      <td>1.000000</td>\n",
       "    </tr>\n",
       "    <tr>\n",
       "      <th>smoking_status_never smoked</th>\n",
       "      <td>uint8</td>\n",
       "      <td>0</td>\n",
       "      <td>4942</td>\n",
       "      <td>2</td>\n",
       "      <td>4942.0</td>\n",
       "      <td>3.757588e-01</td>\n",
       "      <td>0.484367</td>\n",
       "      <td>0.000000</td>\n",
       "      <td>0.000000</td>\n",
       "      <td>0.000000e+00</td>\n",
       "      <td>1.000000</td>\n",
       "      <td>1.000000</td>\n",
       "    </tr>\n",
       "    <tr>\n",
       "      <th>smoking_status_smokes</th>\n",
       "      <td>uint8</td>\n",
       "      <td>0</td>\n",
       "      <td>4942</td>\n",
       "      <td>2</td>\n",
       "      <td>4942.0</td>\n",
       "      <td>1.495346e-01</td>\n",
       "      <td>0.356651</td>\n",
       "      <td>0.000000</td>\n",
       "      <td>0.000000</td>\n",
       "      <td>0.000000e+00</td>\n",
       "      <td>0.000000</td>\n",
       "      <td>1.000000</td>\n",
       "    </tr>\n",
       "  </tbody>\n",
       "</table>\n",
       "</div>"
      ],
      "text/plain": [
       "                                 dtypes  null_cnt  count  nunique   count  \\\n",
       "age                             float64         0   4942      104  4942.0   \n",
       "hypertension                      int64         0   4942        2  4942.0   \n",
       "heart_disease                     int64         0   4942        2  4942.0   \n",
       "ever_married                      int32         0   4942        2  4942.0   \n",
       "Residence_type                    int32         0   4942        2  4942.0   \n",
       "avg_glucose_level               float64         0   4942     3218  4942.0   \n",
       "bmi                             float64         0   4942      302  4942.0   \n",
       "stroke                            int64         0   4942        2  4942.0   \n",
       "gender_Male                       uint8         0   4942        2  4942.0   \n",
       "gender_Other                      uint8         0   4942        2  4942.0   \n",
       "work_type_Never_worked            uint8         0   4942        2  4942.0   \n",
       "work_type_Private                 uint8         0   4942        2  4942.0   \n",
       "work_type_Self-employed           uint8         0   4942        2  4942.0   \n",
       "work_type_children                uint8         0   4942        2  4942.0   \n",
       "smoking_status_formerly smoked    uint8         0   4942        2  4942.0   \n",
       "smoking_status_never smoked       uint8         0   4942        2  4942.0   \n",
       "smoking_status_smokes             uint8         0   4942        2  4942.0   \n",
       "\n",
       "                                        mean       std       min       25%  \\\n",
       "age                            -3.450632e-17  1.000101 -1.900572 -0.797697   \n",
       "hypertension                    9.206799e-02  0.289151  0.000000  0.000000   \n",
       "heart_disease                   5.018211e-02  0.218343  0.000000  0.000000   \n",
       "ever_married                    6.539862e-01  0.475746  0.000000  0.000000   \n",
       "Residence_type                  5.082962e-01  0.499982  0.000000  0.000000   \n",
       "avg_glucose_level              -5.837320e-16  1.000101 -1.823810 -0.674906   \n",
       "bmi                            -2.472953e-16  1.000101 -2.857152 -0.688035   \n",
       "stroke                          4.896803e-02  0.215823  0.000000  0.000000   \n",
       "gender_Male                     4.097531e-01  0.491838  0.000000  0.000000   \n",
       "gender_Other                    2.023472e-04  0.014225  0.000000  0.000000   \n",
       "work_type_Never_worked          4.451639e-03  0.066579  0.000000  0.000000   \n",
       "work_type_Private               5.724403e-01  0.494775  0.000000  0.000000   \n",
       "work_type_Self-employed         1.586402e-01  0.365377  0.000000  0.000000   \n",
       "work_type_children              1.359773e-01  0.342799  0.000000  0.000000   \n",
       "smoking_status_formerly smoked  1.717928e-01  0.377238  0.000000  0.000000   \n",
       "smoking_status_never smoked     3.757588e-01  0.484367  0.000000  0.000000   \n",
       "smoking_status_smokes           1.495346e-01  0.356651  0.000000  0.000000   \n",
       "\n",
       "                                         50%       75%       max  \n",
       "age                             8.743463e-02  0.795540  1.724929  \n",
       "hypertension                    0.000000e+00  0.000000  1.000000  \n",
       "heart_disease                   0.000000e+00  0.000000  1.000000  \n",
       "ever_married                    1.000000e+00  1.000000  1.000000  \n",
       "Residence_type                  1.000000e+00  1.000000  1.000000  \n",
       "avg_glucose_level              -7.448411e-16  0.517371  3.154427  \n",
       "bmi                             0.000000e+00  0.649316  2.427013  \n",
       "stroke                          0.000000e+00  0.000000  1.000000  \n",
       "gender_Male                     0.000000e+00  1.000000  1.000000  \n",
       "gender_Other                    0.000000e+00  0.000000  1.000000  \n",
       "work_type_Never_worked          0.000000e+00  0.000000  1.000000  \n",
       "work_type_Private               1.000000e+00  1.000000  1.000000  \n",
       "work_type_Self-employed         0.000000e+00  0.000000  1.000000  \n",
       "work_type_children              0.000000e+00  0.000000  1.000000  \n",
       "smoking_status_formerly smoked  0.000000e+00  0.000000  1.000000  \n",
       "smoking_status_never smoked     0.000000e+00  1.000000  1.000000  \n",
       "smoking_status_smokes           0.000000e+00  0.000000  1.000000  "
      ]
     },
     "execution_count": 194,
     "metadata": {},
     "output_type": "execute_result"
    }
   ],
   "source": [
    "desc = pd.DataFrame(index = list(df))\n",
    "desc['dtypes'] = df.dtypes\n",
    "desc['null_cnt'] = df.isnull().sum()\n",
    "desc['count'] = df.shape[0]\n",
    "desc['nunique'] = df.nunique()\n",
    "desc = pd.concat([desc,df.describe().T],axis=1)\n",
    "desc"
   ]
  },
  {
   "cell_type": "code",
   "execution_count": null,
   "metadata": {},
   "outputs": [],
   "source": []
  }
 ],
 "metadata": {
  "kernelspec": {
   "display_name": "Python 3",
   "language": "python",
   "name": "python3"
  },
  "language_info": {
   "codemirror_mode": {
    "name": "ipython",
    "version": 3
   },
   "file_extension": ".py",
   "mimetype": "text/x-python",
   "name": "python",
   "nbconvert_exporter": "python",
   "pygments_lexer": "ipython3",
   "version": "3.9.13"
  }
 },
 "nbformat": 4,
 "nbformat_minor": 2
}
